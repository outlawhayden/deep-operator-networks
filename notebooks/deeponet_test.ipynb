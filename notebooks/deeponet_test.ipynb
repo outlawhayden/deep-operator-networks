{
 "cells": [
  {
   "cell_type": "code",
   "execution_count": 160,
   "id": "be1d0671",
   "metadata": {},
   "outputs": [],
   "source": [
    "import jax.numpy as jnp\n",
    "import numpy as np\n",
    "import jax\n",
    "from flax import nnx\n",
    "import optax\n",
    "from flax.training import train_state\n",
    "import scipy\n",
    "from scipy.spatial.distance import cdist\n",
    "from scipy.integrate import RK45\n",
    "import matplotlib.pyplot as plt\n",
    "\n",
    "seed = 42\n",
    "np.random.seed(42)\n",
    "\n",
    "import equinox as eqx"
   ]
  },
  {
   "cell_type": "code",
   "execution_count": 151,
   "id": "7eaf8cb8",
   "metadata": {},
   "outputs": [],
   "source": [
    "class Linear(eqx.Module):\n",
    "    weight: jax.Array\n",
    "    bias: jax.Array\n",
    "\n",
    "    def __init__(self, in_size, out_size, key):\n",
    "        wkey, bkey = jax.random.split(key)\n",
    "        self.weight = jax.random.normal(wkey, (out_size, in_size))\n",
    "        self.bias = jax.random.normal(bkey, (out_size))\n",
    "\n",
    "    def __call__(self, x):\n",
    "        return self.weight @ x + self.bias\n",
    "\n",
    "\n",
    "class MLP(eqx.Module):\n",
    "    layers: list\n",
    "    activations: list\n",
    "\n",
    "    def __init__(self, architecture, key, activation = jax.nn.relu):\n",
    "        \"\"\"\n",
    "        architecture: [in, hidden1, hidden2, ..., out]\n",
    "        key: random key\n",
    "        activation: jax.nn act fxn\n",
    "        \"\"\"\n",
    "        keys = jax.random.split(key, len(architecture) - 1)\n",
    "        self.layers = [\n",
    "            Linear(architecture[i], architecture[i+1], keys[i]) for i in range(len(architecture) - 1)]\n",
    "        self.activations = [activation] * (len(self.layers) - 1) + [eqx.nn.Identity()] # no activation on last layer\n",
    "\n",
    "    def __call__(self, x):\n",
    "        for layer, act in zip(self.layers, self.activations):\n",
    "            x = act(layer(x))\n",
    "        return x\n",
    "\n",
    "class DeepONet(eqx.Module):\n",
    "    branch: Branch\n",
    "    trunk: MLP\n",
    "\n",
    "    def __init__(self, branch_arch, trunk_arch, key, activation=jax.nn.relu):\n",
    "        bkey, tkey = jax.random.split(key)\n",
    "        trunk_arch = trunk_arch + [num_branches]\n",
    "        self.branch = MLP(branch_arch, bkey, activation)\n",
    "        self.trunk = MLP(trunk_arch, tkey, activation)\n",
    "\n",
    "    def __call__(self, x):\n",
    "        u= x[0]\n",
    "        y = x[1]\n",
    "        branch_out = self.branch(jnp.atleast_1d(u_vec))\n",
    "        trunk_out = self.trunk(jnp.atleast_1d(y))\n",
    "        return jnp.inner(branch_out, trunk_out) ## TODO: vectorize y component (vmap)\n"
   ]
  },
  {
   "cell_type": "code",
   "execution_count": 152,
   "id": "6304d475",
   "metadata": {},
   "outputs": [],
   "source": [
    "@jax.jit\n",
    "@jax.grad\n",
    "def loss_fn(model, x, y):\n",
    "    pred_y = jax.vmap(model)(x)\n",
    "    return jnp.mean((y - pred_y) ** 2)\n",
    "\n",
    "batch_size, in_size, out_size = 32,2,3\n",
    "model = Linear(in_size, out_size, key = jax.random.PRNGKey(seed))\n",
    "x = jnp.zeros((batch_size, in_size))\n",
    "y = jnp.zeros((batch_size, out_size))\n",
    "\n",
    "grads = loss_fn(model, x, y)"
   ]
  },
  {
   "cell_type": "code",
   "execution_count": 153,
   "id": "80a85e26",
   "metadata": {},
   "outputs": [],
   "source": [
    "key = jax.random.key(0)\n",
    "model = MLP([2,64,64,3], key)\n",
    "\n",
    "x = jnp.ones((2,))\n",
    "y = model(x)"
   ]
  },
  {
   "cell_type": "code",
   "execution_count": 154,
   "id": "bf25551f",
   "metadata": {},
   "outputs": [
    {
     "data": {
      "text/plain": [
       "Array([-55.826912 ,   2.7322528, -46.81471  ], dtype=float32)"
      ]
     },
     "execution_count": 154,
     "metadata": {},
     "output_type": "execute_result"
    }
   ],
   "source": [
    "y"
   ]
  },
  {
   "cell_type": "code",
   "execution_count": 155,
   "id": "20641116",
   "metadata": {},
   "outputs": [
    {
     "data": {
      "text/plain": [
       "Array([1., 1.], dtype=float32)"
      ]
     },
     "execution_count": 155,
     "metadata": {},
     "output_type": "execute_result"
    }
   ],
   "source": [
    "x"
   ]
  },
  {
   "cell_type": "code",
   "execution_count": 156,
   "id": "3f362104",
   "metadata": {},
   "outputs": [
    {
     "data": {
      "text/plain": [
       "(100, 3)"
      ]
     },
     "execution_count": 156,
     "metadata": {},
     "output_type": "execute_result"
    }
   ],
   "source": [
    "dataset = np.load(\"integral_dataset.npy\")\n",
    "# dataset[i] is traj i\n",
    "# traj[j] = value\n",
    "# value [k] = x_coord (0), u at x_coord (1), F at coord (2)\n",
    "dataset[0].shape"
   ]
  },
  {
   "cell_type": "code",
   "execution_count": 157,
   "id": "af154814",
   "metadata": {},
   "outputs": [],
   "source": [
    "from sklearn.model_selection import train_test_split\n",
    "X = dataset[:,:,:2]\n",
    "y = dataset[:,:,2]\n",
    "\n",
    "X_train, X_test, y_train, y_test = train_test_split(X,y, test_size = 0.33, random_state = seed)"
   ]
  },
  {
   "cell_type": "code",
   "execution_count": 158,
   "id": "ccf0d05f",
   "metadata": {},
   "outputs": [
    {
     "data": {
      "text/plain": [
       "(100, 2)"
      ]
     },
     "execution_count": 158,
     "metadata": {},
     "output_type": "execute_result"
    }
   ],
   "source": [
    "X_train[0].shape"
   ]
  },
  {
   "cell_type": "code",
   "execution_count": 159,
   "id": "9f148088",
   "metadata": {},
   "outputs": [
    {
     "data": {
      "text/plain": [
       "(100,)"
      ]
     },
     "execution_count": 159,
     "metadata": {},
     "output_type": "execute_result"
    }
   ],
   "source": [
    "y_train[0].shape"
   ]
  },
  {
   "cell_type": "code",
   "execution_count": 149,
   "id": "bef175d2",
   "metadata": {},
   "outputs": [
    {
     "data": {
      "text/plain": [
       "[<matplotlib.lines.Line2D at 0x3339028d0>]"
      ]
     },
     "execution_count": 149,
     "metadata": {},
     "output_type": "execute_result"
    },
    {
     "data": {
      "image/png": "[encoded data removed]",
      "text/plain": [
       "<Figure size 640x480 with 1 Axes>"
      ]
     },
     "metadata": {},
     "output_type": "display_data"
    }
   ],
   "source": [
    "plt.plot(X_train[0,:,0], X_train[0,:,1])\n",
    "plt.plot(X_train[0,:,0], y_train[0,:])"
   ]
  },
  {
   "cell_type": "code",
   "execution_count": null,
   "id": "f2ed8217",
   "metadata": {},
   "outputs": [],
   "source": []
  },
  {
   "cell_type": "markdown",
   "id": "a08b0048",
   "metadata": {},
   "source": [
    "- time dependent data into dataset\n",
    "- when does learned basis (trunk fxns) outperform basis via SVD? (POD or Reduced Order Model)\n",
    "- time-dependent POD method for PDE solns\n",
    "\n",
    "\n",
    "- once/if deeponet works, try on advection-based problem\n",
    "    - will get sent burgers equation"
   ]
  }
 ],
 "metadata": {
  "kernelspec": {
   "display_name": "jax",
   "language": "python",
   "name": "python3"
  },
  "language_info": {
   "codemirror_mode": {
    "name": "ipython",
    "version": 3
   },
   "file_extension": ".py",
   "mimetype": "text/x-python",
   "name": "python",
   "nbconvert_exporter": "python",
   "pygments_lexer": "ipython3",
   "version": "3.12.11"
  }
 },
 "nbformat": 4,
 "nbformat_minor": 5
}
