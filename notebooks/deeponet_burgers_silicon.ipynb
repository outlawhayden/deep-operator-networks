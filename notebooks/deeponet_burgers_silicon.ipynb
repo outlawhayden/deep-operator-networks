{
 "cells": [
  {
   "cell_type": "code",
   "execution_count": 1,
   "id": "2f49db5b",
   "metadata": {},
   "outputs": [
    {
     "name": "stderr",
     "output_type": "stream",
     "text": [
      "WARNING:2025-09-25 12:02:32,632:jax._src.xla_bridge:1018: Platform 'METAL' is experimental and not all JAX functionality may be correctly supported!\n"
     ]
    },
    {
     "name": "stdout",
     "output_type": "stream",
     "text": [
      "Metal device set to: Apple M1 Pro\n",
      "\n",
      "systemMemory: 16.00 GB\n",
      "maxCacheSize: 5.33 GB\n",
      "\n"
     ]
    },
    {
     "name": "stderr",
     "output_type": "stream",
     "text": [
      "WARNING: All log messages before absl::InitializeLog() is called are written to STDERR\n",
      "W0000 00:00:1758816152.633314 47168428 mps_client.cc:510] WARNING: JAX Apple GPU support is experimental and not all JAX functionality is correctly supported!\n",
      "I0000 00:00:1758816152.667397 47168428 service.cc:145] XLA service 0x1412b21b0 initialized for platform METAL (this does not guarantee that XLA will be used). Devices:\n",
      "I0000 00:00:1758816152.667437 47168428 service.cc:153]   StreamExecutor device (0): Metal, <undefined>\n",
      "I0000 00:00:1758816152.670065 47168428 mps_client.cc:406] Using Simple allocator.\n",
      "I0000 00:00:1758816152.670089 47168428 mps_client.cc:384] XLA backend will use up to 11452858368 bytes on device 0 for SimpleAllocator.\n"
     ]
    }
   ],
   "source": [
    "import jax.numpy as jnp\n",
    "import numpy as np\n",
    "import jax\n",
    "import optax\n",
    "import scipy\n",
    "from scipy.spatial.distance import cdist\n",
    "from scipy.integrate import RK45\n",
    "import matplotlib.pyplot as plt\n",
    "from sklearn.model_selection import train_test_split\n",
    "import equinox as eqx\n",
    "from jax.nn.initializers import variance_scaling\n",
    "from jax.nn.initializers import he_normal\n",
    "from tqdm import tqdm\n",
    "\n",
    "\n",
    "seed = 42\n",
    "np.random.seed(42)\n",
    "key = jax.random.key(seed)\n"
   ]
  },
  {
   "cell_type": "code",
   "execution_count": 2,
   "id": "f0d11b7c",
   "metadata": {},
   "outputs": [],
   "source": [
    "dataset = np.load('/Users/haydenoutlaw/Documents/Research/opnet/deep-operator-networks/data/burgers_dataset.npz', allow_pickle = True)\n",
    "\n",
    "list(dataset.keys())\n",
    "\n",
    "t_grid = dataset['t']\n",
    "x_grid = dataset['x']\n",
    "\n",
    "data = dataset['samples']\n",
    "n_samp = data.shape[0]"
   ]
  },
  {
   "cell_type": "code",
   "execution_count": 3,
   "id": "4af3efb8",
   "metadata": {},
   "outputs": [],
   "source": [
    "u = np.array([i['params'] for i in data])\n",
    "s = np.array([i['solution'] for i in data])"
   ]
  },
  {
   "cell_type": "code",
   "execution_count": 4,
   "id": "0ee14e5b",
   "metadata": {},
   "outputs": [],
   "source": [
    "train_indices, test_indices = train_test_split(np.arange(n_samp), test_size = 0.33, random_state = seed)\n",
    "u_train, u_test = u[train_indices], u[test_indices]\n",
    "s_train, s_test = s[train_indices], s[test_indices]"
   ]
  },
  {
   "cell_type": "code",
   "execution_count": 5,
   "id": "f5ea3d7d",
   "metadata": {},
   "outputs": [
    {
     "data": {
      "text/plain": [
       "(295, 201, 201)"
      ]
     },
     "execution_count": 5,
     "metadata": {},
     "output_type": "execute_result"
    }
   ],
   "source": [
    "s_train.shape"
   ]
  },
  {
   "cell_type": "code",
   "execution_count": 14,
   "id": "6f405ed8",
   "metadata": {},
   "outputs": [],
   "source": [
    "def get_point_batch(batch_size, params, s, x, t, key):\n",
    "    \"\"\"\n",
    "    Build a batch of random samples, each as [param, x, t, s].\n",
    "    \n",
    "    params: (N, 2) array of parameters\n",
    "    s:      (N, nt, nx) array of solutions\n",
    "    x:      (nx,) spatial grid\n",
    "    t:      (nt,) time grid\n",
    "    key:    jax.random.PRNGKey\n",
    "    \n",
    "    Returns:\n",
    "        samples: list of length batch_size\n",
    "                 each sample = [param (2,), x (scalar), t (scalar), s (scalar)]\n",
    "        new_key: updated PRNG key\n",
    "    \"\"\"\n",
    "    N, nt, nx = s.shape\n",
    "    \n",
    "    # Randomly choose indices\n",
    "    key, subkey1, subkey2, subkey3 = jax.random.split(key, 4)\n",
    "    sample_idx = jax.random.randint(subkey1, (batch_size,), 0, N)\n",
    "    t_idx      = jax.random.randint(subkey2, (batch_size,), 0, nt)\n",
    "    x_idx      = jax.random.randint(subkey3, (batch_size,), 0, nx)\n",
    "    \n",
    "    # Build per-sample list\n",
    "    samples = []\n",
    "    for i in range(batch_size):\n",
    "        p = params[sample_idx[i]]\n",
    "        xi = x[x_idx[i]]\n",
    "        ti = t[t_idx[i]]\n",
    "        si = s[sample_idx[i], t_idx[i], x_idx[i]]\n",
    "        samples.append([p, xi, ti, si])\n",
    "    \n",
    "    return samples, key\n"
   ]
  },
  {
   "cell_type": "code",
   "execution_count": 18,
   "id": "1ed13181",
   "metadata": {},
   "outputs": [
    {
     "data": {
      "text/plain": [
       "[array([0.77, 0.99], dtype=float32),\n",
       " np.float32(0.28),\n",
       " np.float32(-1.35),\n",
       " np.float32(0.06577639)]"
      ]
     },
     "execution_count": 18,
     "metadata": {},
     "output_type": "execute_result"
    }
   ],
   "source": [
    "samp, key = get_point_batch(10, u_train, s_train, t_grid, x_grid, key)\n",
    "samp[0]"
   ]
  },
  {
   "cell_type": "code",
   "execution_count": null,
   "id": "a31f3ff2",
   "metadata": {},
   "outputs": [],
   "source": []
  }
 ],
 "metadata": {
  "kernelspec": {
   "display_name": "jax",
   "language": "python",
   "name": "python3"
  },
  "language_info": {
   "codemirror_mode": {
    "name": "ipython",
    "version": 3
   },
   "file_extension": ".py",
   "mimetype": "text/x-python",
   "name": "python",
   "nbconvert_exporter": "python",
   "pygments_lexer": "ipython3",
   "version": "3.12.11"
  }
 },
 "nbformat": 4,
 "nbformat_minor": 5
}
